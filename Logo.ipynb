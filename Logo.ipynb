{
 "cells": [
  {
   "cell_type": "code",
   "execution_count": 1,
   "metadata": {},
   "outputs": [],
   "source": [
    "import emg3d\n",
    "import matplotlib\n",
    "import numpy as np\n",
    "import matplotlib.pyplot as plt\n",
    "import matplotlib.patheffects as path_effects"
   ]
  },
  {
   "cell_type": "code",
   "execution_count": 2,
   "metadata": {},
   "outputs": [],
   "source": [
    "%matplotlib inline\n",
    "plt.style.use('ggplot')"
   ]
  },
  {
   "cell_type": "code",
   "execution_count": 3,
   "metadata": {},
   "outputs": [],
   "source": [
    "x = np.arange(13)\n",
    "y = np.array([3, 2, 1, 0, 1, 0, 1, 2, 1, 0, 1, 2, 3])\n",
    "\n",
    "fp = matplotlib.font_manager.FontProperties(family='Ubuntu', size=90, weight='medium')"
   ]
  },
  {
   "cell_type": "code",
   "execution_count": 4,
   "metadata": {},
   "outputs": [
    {
     "data": {
      "image/png": "[encoded data removed]",
      "text/plain": [
       "<Figure size 360x180 with 1 Axes>"
      ]
     },
     "metadata": {},
     "output_type": "display_data"
    }
   ],
   "source": [
    "plt.figure(figsize=(5, 2.5))\n",
    "plt.ylim([-0.2, 3.2])\n",
    "plt.axis('off')\n",
    "\n",
    "ln = plt.plot(x, y, '.8', lw=10, solid_capstyle='round')\n",
    "plt.plot(6.5, 1.8, 'C0o', ms=35)\n",
    "txt = plt.text(6, 1.15, 'emg3d', alpha=1,color='C1', ha='center', fontproperties=fp)\n",
    "txt.set_path_effects([path_effects.withStroke(linewidth=4, foreground='w')])\n",
    "\n",
    "plt.savefig('logo-emg3d.svg', transparent=True)\n",
    "plt.savefig('logo-emg3d-transp.png', transparent=True)\n",
    "plt.savefig('logo-emg3d.png')\n",
    "plt.show()"
   ]
  },
  {
   "cell_type": "code",
   "execution_count": 5,
   "metadata": {},
   "outputs": [
    {
     "data": {
      "image/png": "[encoded data removed]",
      "text/plain": [
       "<Figure size 216x216 with 1 Axes>"
      ]
     },
     "metadata": {},
     "output_type": "display_data"
    }
   ],
   "source": [
    "plt.figure(figsize=(3, 3))\n",
    "plt.axis('off')\n",
    "\n",
    "plt.plot(1.499, 1.527, 'C0o', ms=35)\n",
    "txt = plt.text(1.5, 1.5, 'g', color='C1', ha='center', fontproperties=fp)\n",
    "txt.set_path_effects([path_effects.withStroke(linewidth=4, foreground='w')])\n",
    "\n",
    "plt.savefig('logo-emg3d-forfav.png', facecolor='none')\n",
    "plt.show()"
   ]
  },
  {
   "cell_type": "code",
   "execution_count": 6,
   "metadata": {},
   "outputs": [
    {
     "data": {
      "text/html": [
       "<table style='border: 3px solid #ddd;'>\n",
       "  <tr>\n",
       "     <td style='text-align: center; font-weight: bold; font-size: 1.2em; border: 2px solid #fff;' colspan='8'>Fri Apr 19 12:53:27 2019 CEST</td>\n",
       "  </tr>\n",
       "  <tr>\n",
       "    <td style='text-align: right; background-color: #ccc; border: 2px solid #fff;'>Linux</td>\n",
       "    <td style='text-align: left; border: 2px solid #fff;'>OS</td>\n",
       "    <td style='text-align: right; background-color: #ccc; border: 2px solid #fff;'>4</td>\n",
       "    <td style='text-align: left; border: 2px solid #fff;'>CPU(s)</td>\n",
       "    <td style='text-align: right; background-color: #ccc; border: 2px solid #fff;'>1.16.2</td>\n",
       "    <td style='text-align: left; border: 2px solid #fff;'>numpy</td>\n",
       "    <td style='text-align: right; background-color: #ccc; border: 2px solid #fff;'>1.2.1</td>\n",
       "    <td style='text-align: left; border: 2px solid #fff;'>scipy</td>\n",
       "  </tr>\n",
       "  <tr>\n",
       "    <td style='text-align: right; background-color: #ccc; border: 2px solid #fff;'>0.42.0</td>\n",
       "    <td style='text-align: left; border: 2px solid #fff;'>numba</td>\n",
       "    <td style='text-align: right; background-color: #ccc; border: 2px solid #fff;'>0.5.0dev0</td>\n",
       "    <td style='text-align: left; border: 2px solid #fff;'>emg3d</td>\n",
       "    <td style='text-align: right; background-color: #ccc; border: 2px solid #fff;'>7.3.0</td>\n",
       "    <td style='text-align: left; border: 2px solid #fff;'>IPython</td>\n",
       "    <td style='text-align: right; background-color: #ccc; border: 2px solid #fff;'>3.0.2</td>\n",
       "    <td style='text-align: left; border: 2px solid #fff;'>matplotlib</td>\n",
       "  </tr>\n",
       "  <tr>\n",
       "     <td style='text-align: center; border: 2px solid #fff;' colspan='8'>3.7.2 (default, Dec 29 2018, 06:19:36) \n",
       "[GCC 7.3.0]</td>\n",
       "  </tr>\n",
       "  <tr>\n",
       "     <td style='text-align: center; background-color: #ddd;border: 2px solid #fff;' colspan='8'>Intel(R) Math Kernel Library Version 2019.0.1 Product Build 20180928 for Intel(R) 64 architecture applications</td>\n",
       "  </tr>\n",
       "</table>"
      ],
      "text/plain": [
       "\n",
       "------------------------------------------------------\n",
       "  Fri Apr 19 12:53:27 2019 CEST\n",
       "\n",
       "          Linux : OS\n",
       "              4 : CPU(s)\n",
       "         1.16.2 : numpy\n",
       "          1.2.1 : scipy\n",
       "         0.42.0 : numba\n",
       "      0.5.0dev0 : emg3d\n",
       "          7.3.0 : IPython\n",
       "          3.0.2 : matplotlib\n",
       "\n",
       "  3.7.2 (default, Dec 29 2018, 06:19:36)  [GCC\n",
       "  7.3.0]\n",
       "\n",
       "  Intel(R) Math Kernel Library Version 2019.0.1\n",
       "  Product Build 20180928 for Intel(R) 64\n",
       "  architecture applications\n",
       "------------------------------------------------------"
      ]
     },
     "execution_count": 6,
     "metadata": {},
     "output_type": "execute_result"
    }
   ],
   "source": [
    "emg3d.Versions()"
   ]
  }
 ],
 "metadata": {
  "kernelspec": {
   "display_name": "Python 3",
   "language": "python",
   "name": "python3"
  },
  "language_info": {
   "codemirror_mode": {
    "name": "ipython",
    "version": 3
   },
   "file_extension": ".py",
   "mimetype": "text/x-python",
   "name": "python",
   "nbconvert_exporter": "python",
   "pygments_lexer": "ipython3",
   "version": "3.7.2"
  }
 },
 "nbformat": 4,
 "nbformat_minor": 2
}
